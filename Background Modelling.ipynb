{
 "cells": [
  {
   "cell_type": "markdown",
   "metadata": {},
   "source": [
    "# Background Extraction from videos using Gaussian Mixture Models\n",
    "\n",
    "**Objective**  \n",
    "Given a video with sparse and dynamically changing foreground, extract the static background.\n",
    "\n",
    "**Input:**  \n",
    "![](./resources/traffic.gif)\n",
    "\n",
    "**Expected Output:**  \n",
    "![](./resources/background.png)"
   ]
  },
  {
   "cell_type": "code",
   "execution_count": 1,
   "metadata": {},
   "outputs": [],
   "source": [
    "import os\n",
    "import cv2\n",
    "import numpy as np\n",
    "import matplotlib.pyplot as plt\n",
    "from sklearn.mixture import GaussianMixture"
   ]
  },
  {
   "cell_type": "code",
   "execution_count": 2,
   "metadata": {},
   "outputs": [],
   "source": [
    "vid = cv2.VideoCapture('./data/traffic.avi')"
   ]
  },
  {
   "cell_type": "code",
   "execution_count": 3,
   "metadata": {},
   "outputs": [],
   "source": [
    "frames = []\n",
    "frame_count = 0\n",
    "\n",
    "while True:\n",
    "    ret, frame = vid.read()\n",
    "    if frame is not None:\n",
    "        frames.append(frame)\n",
    "        frame_count += 1\n",
    "    else:\n",
    "        break\n",
    "frames = np.array(frames)"
   ]
  },
  {
   "cell_type": "code",
   "execution_count": 4,
   "metadata": {},
   "outputs": [
    {
     "name": "stdout",
     "output_type": "stream",
     "text": [
      "Number of frames extracted is 120\n"
     ]
    }
   ],
   "source": [
    "print(\"Number of frames extracted is {}\".format(frame_count))"
   ]
  },
  {
   "cell_type": "code",
   "execution_count": 5,
   "metadata": {},
   "outputs": [
    {
     "name": "stdout",
     "output_type": "stream",
     "text": [
      "array dimensions will be (num_frames, image_width, image_height, num_channels)\n",
      "Shape of frames is (120, 120, 160, 3)\n"
     ]
    }
   ],
   "source": [
    "print(\"array dimensions will be (num_frames, image_width, image_height, num_channels)\")\n",
    "print(\"Shape of frames is {}\".format(frames.shape))"
   ]
  },
  {
   "cell_type": "markdown",
   "metadata": {},
   "source": [
    "**Modelling**  "
   ]
  },
  {
   "cell_type": "code",
   "execution_count": 6,
   "metadata": {},
   "outputs": [],
   "source": [
    "gmm = GaussianMixture(n_components = 2)"
   ]
  },
  {
   "cell_type": "code",
   "execution_count": 7,
   "metadata": {},
   "outputs": [],
   "source": [
    "# initialize a dummy background image with all zeros\n",
    "background = np.zeros(shape=(frames.shape[1:]))"
   ]
  },
  {
   "cell_type": "code",
   "execution_count": 8,
   "metadata": {},
   "outputs": [
    {
     "name": "stdout",
     "output_type": "stream",
     "text": [
      "Shape of dummy background image is (120, 160, 3)\n"
     ]
    }
   ],
   "source": [
    "print(\"Shape of dummy background image is {}\".format(background.shape))"
   ]
  },
  {
   "cell_type": "code",
   "execution_count": 9,
   "metadata": {},
   "outputs": [
    {
     "name": "stderr",
     "output_type": "stream",
     "text": [
      "c:\\Users\\Muhammed\\AppData\\Local\\Programs\\Python\\Python310\\lib\\site-packages\\sklearn\\mixture\\_base.py:134: ConvergenceWarning: Number of distinct clusters (1) found smaller than n_clusters (2). Possibly due to duplicate points in X.\n",
      "  .fit(X)\n",
      "c:\\Users\\Muhammed\\AppData\\Local\\Programs\\Python\\Python310\\lib\\site-packages\\sklearn\\mixture\\_base.py:134: ConvergenceWarning: Number of distinct clusters (1) found smaller than n_clusters (2). Possibly due to duplicate points in X.\n",
      "  .fit(X)\n",
      "c:\\Users\\Muhammed\\AppData\\Local\\Programs\\Python\\Python310\\lib\\site-packages\\sklearn\\mixture\\_base.py:134: ConvergenceWarning: Number of distinct clusters (1) found smaller than n_clusters (2). Possibly due to duplicate points in X.\n",
      "  .fit(X)\n"
     ]
    }
   ],
   "source": [
    "for i in range(frames.shape[1]):\n",
    "    for j in range(frames.shape[2]):\n",
    "        for k in range(frames.shape[3]):\n",
    "            X = frames[:, i, j, k]\n",
    "            X = X.reshape(X.shape[0], 1)\n",
    "            gmm.fit(X)\n",
    "            means = gmm.means_\n",
    "            covars = gmm.covariances_\n",
    "            weights = gmm.weights_\n",
    "            idx = np.argmax(weights)\n",
    "            background[i][j][k] = int(means[idx])"
   ]
  },
  {
   "cell_type": "code",
   "execution_count": 10,
   "metadata": {},
   "outputs": [
    {
     "data": {
      "text/plain": [
       "True"
      ]
     },
     "execution_count": 10,
     "metadata": {},
     "output_type": "execute_result"
    }
   ],
   "source": [
    "cv2.imwrite('background.png', background)"
   ]
  },
  {
   "cell_type": "markdown",
   "metadata": {},
   "source": [
    "**Input:**&emsp;&emsp;&emsp;&emsp;&emsp;&emsp;&emsp;&emsp;&emsp;**Output:**  \n",
    "![](./resources/traffic.gif)  ![](./resources/background.png)\n"
   ]
  }
 ],
 "metadata": {
  "kernelspec": {
   "display_name": "Python 3.10.5 64-bit",
   "language": "python",
   "name": "python3"
  },
  "language_info": {
   "codemirror_mode": {
    "name": "ipython",
    "version": 3
   },
   "file_extension": ".py",
   "mimetype": "text/x-python",
   "name": "python",
   "nbconvert_exporter": "python",
   "pygments_lexer": "ipython3",
   "version": "3.10.5"
  },
  "vscode": {
   "interpreter": {
    "hash": "d15eb5a55f56d79deabe98850fbaaf786be2dd1a67eec96195f00ca9e015c54c"
   }
  }
 },
 "nbformat": 4,
 "nbformat_minor": 4
}
